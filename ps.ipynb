{
 "cells": [
  {
   "cell_type": "code",
   "execution_count": 11,
   "metadata": {
    "collapsed": true,
    "ExecuteTime": {
     "end_time": "2023-05-03T16:31:04.702312900Z",
     "start_time": "2023-05-03T16:31:04.692835Z"
    }
   },
   "outputs": [],
   "source": [
    "# Directory of stored data\n",
    "filedir: str = \"C:\\\\Users\\\\alvar\\\\University of Southampton\\\\GDP - General\\\\Flight Day 2\\\\data\"\n",
    "\n",
    "# Flight number\n",
    "flight: float = 2"
   ]
  },
  {
   "cell_type": "code",
   "execution_count": 12,
   "outputs": [],
   "source": [
    "import pandas as pd\n",
    "from datetime import datetime\n",
    "import re"
   ],
   "metadata": {
    "collapsed": false,
    "ExecuteTime": {
     "end_time": "2023-05-03T16:31:04.710618200Z",
     "start_time": "2023-05-03T16:31:04.698784900Z"
    }
   }
  },
  {
   "cell_type": "code",
   "execution_count": 13,
   "outputs": [
    {
     "name": "stderr",
     "output_type": "stream",
     "text": [
      "C:\\Users\\alvar\\AppData\\Local\\Temp\\ipykernel_7216\\1250394461.py:29: FutureWarning: Passing 'suffixes' which cause duplicate columns {'TimeUS_x'} in the result is deprecated and will raise a MergeError in a future version.\n",
      "  data = pd.merge_asof(data, aoa, on='timestamp')\n"
     ]
    }
   ],
   "source": [
    "def regexdatetime(input_comment: str) -> datetime:\n",
    "    result = re.search(r\"t(-?[0-9]+.[0-9]+)c?(-?[0-9]+)?\", input_comment)\n",
    "    if result.group(2) is not None:\n",
    "        return datetime.fromtimestamp(float(result.group(2))/1e6)\n",
    "    return datetime.fromtimestamp(float(result.group(1)))\n",
    "\n",
    "def regextimestamp(input_comment: str) -> float:\n",
    "    result = re.search(r\"t(-?[0-9]+.[0-9]+)c?(-?[0-9]+)?\", input_comment)\n",
    "    if result.group(2) is not None:\n",
    "        return float(result.group(2))/1e6\n",
    "    return float(result.group(1))\n",
    "\n",
    "def load(dir: str, ATOT: datetime, ALDT: datetime, flight: int) -> pd.DataFrame:\n",
    "    data = pd.read_csv(dir + \"\\\\ps_data.csv\", index_col=False)\n",
    "    data[\"time\"] = data[\"comment\"].map(regexdatetime)\n",
    "    data = data[(data[\"time\"] > ATOT) & (data[\"time\"] < ALDT)]\n",
    "    data[\"timestamp\"] = data[\"comment\"].map(regextimestamp)\n",
    "\n",
    "    # TODO: Apply time offset for non calibrated\n",
    "\n",
    "    arsp = pd.read_csv(dir + f\"\\\\arsp{flight}.csv\")\n",
    "    imu = pd.read_csv(dir + f\"\\\\imu{flight}.csv\")\n",
    "    ahr = pd.read_csv(dir + f\"\\\\ahr2{flight}.csv\")\n",
    "    aoa = pd.read_csv(dir + f\"\\\\aoa{flight}.csv\")\n",
    "\n",
    "    data = pd.merge_asof(data, arsp, on='timestamp')\n",
    "    data = pd.merge_asof(data, imu, on='timestamp')\n",
    "    data = pd.merge_asof(data, ahr, on='timestamp')\n",
    "    data = pd.merge_asof(data, aoa, on='timestamp')\n",
    "\n",
    "    data = data[data['Airspeed'].notna()]\n",
    "\n",
    "    return data.reset_index()\n",
    "\n",
    "if flight == 1:\n",
    "    data = load(filedir, datetime(2023, 5, 2, 11, 0, 0), datetime(2023, 5, 2, 12, 0, 0), flight)\n",
    "elif flight == 2:\n",
    "    data = load(filedir, datetime(2023, 5, 2, 13, 0, 0), datetime(2023, 5, 2, 14, 0, 0), flight)"
   ],
   "metadata": {
    "collapsed": false,
    "ExecuteTime": {
     "end_time": "2023-05-03T16:31:06.309590800Z",
     "start_time": "2023-05-03T16:31:04.710618200Z"
    }
   }
  }
 ],
 "metadata": {
  "kernelspec": {
   "display_name": "Python 3",
   "language": "python",
   "name": "python3"
  },
  "language_info": {
   "codemirror_mode": {
    "name": "ipython",
    "version": 2
   },
   "file_extension": ".py",
   "mimetype": "text/x-python",
   "name": "python",
   "nbconvert_exporter": "python",
   "pygments_lexer": "ipython2",
   "version": "2.7.6"
  }
 },
 "nbformat": 4,
 "nbformat_minor": 0
}
